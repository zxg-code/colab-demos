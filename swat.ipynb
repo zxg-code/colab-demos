{
  "nbformat": 4,
  "nbformat_minor": 0,
  "metadata": {
    "colab": {
      "provenance": [],
      "toc_visible": true,
      "authorship_tag": "ABX9TyOjSWW4ZBrePTtYVhrZpyrT",
      "include_colab_link": true
    },
    "kernelspec": {
      "name": "python3",
      "display_name": "Python 3"
    },
    "language_info": {
      "name": "python"
    }
  },
  "cells": [
    {
      "cell_type": "markdown",
      "metadata": {
        "id": "view-in-github",
        "colab_type": "text"
      },
      "source": [
        "<a href=\"https://colab.research.google.com/github/zxg-code/colab-demos/blob/main/swat.ipynb\" target=\"_parent\"><img src=\"https://colab.research.google.com/assets/colab-badge.svg\" alt=\"Open In Colab\"/></a>"
      ]
    },
    {
      "cell_type": "code",
      "execution_count": 1,
      "metadata": {
        "id": "Hgyup2E5RXRa"
      },
      "outputs": [],
      "source": [
        "import os\n",
        "import math\n",
        "from abc import abstractmethod\n",
        "\n",
        "from PIL import Image\n",
        "import requests\n",
        "import numpy as np\n",
        "import torch\n",
        "import torch.nn as nn\n",
        "import torch.nn.functional as F\n",
        "from torchvision import datasets, transforms\n",
        "from tqdm import tqdm\n",
        "import matplotlib.pyplot as plt\n",
        "\n",
        "from UNet import UNetModel\n",
        "from diffusion import GaussianDiffusion\n",
        "from CustomDataset import *\n",
        "\n",
        "%matplotlib inline"
      ]
    },
    {
      "cell_type": "code",
      "source": [
        "/content/sample_data"
      ],
      "metadata": {
        "id": "vTvLjj3GSsfw"
      },
      "execution_count": null,
      "outputs": []
    }
  ]
}